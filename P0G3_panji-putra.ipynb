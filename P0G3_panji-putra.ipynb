{
 "cells": [
  {
   "cell_type": "markdown",
   "metadata": {},
   "source": [
    "=================================================  \n",
    "\n",
    "Program ini dibuat untuk melakukan web scrapping mencari produk seblak dan melakukan analisis data. Melakukan analisis data dengan menggunakan rumus-rumus statistika yang nantinya digunakan untuk mencari tahu apakah penjualan produk seblak bisa mendapatkan banyak keuntungan agar mendapatkan pendapatan tambahan.\n",
    "\n",
    "\n",
    "=================================================\n",
    "\n"
   ]
  },
  {
   "cell_type": "markdown",
   "metadata": {},
   "source": [
    "## Web Scrapping"
   ]
  },
  {
   "cell_type": "code",
   "execution_count": 7,
   "metadata": {},
   "outputs": [],
   "source": [
    "# import libraries\n",
    "import pandas as pd\n",
    "from selenium import webdriver\n",
    "from bs4 import BeautifulSoup\n",
    "driver = webdriver.Chrome()\n",
    "import time"
   ]
  },
  {
   "cell_type": "code",
   "execution_count": 20,
   "metadata": {},
   "outputs": [
    {
     "name": "stdout",
     "output_type": "stream",
     "text": [
      "35\n",
      "70\n",
      "103\n",
      "138\n",
      "173\n",
      "207\n",
      "242\n",
      "276\n",
      "311\n",
      "346\n",
      "346\n"
     ]
    }
   ],
   "source": [
    "# Menjalankan scrapping\n",
    "dataset = []\n",
    "# Melakukan looping\n",
    "for i in range(1, 11):\n",
    "    url = f'https://www.tokopedia.com/search?navsource=&page={i}&q=seblak&srp_component_id=02.01.00.00&srp_page_id=&srp_page_title=&st='\n",
    "    driver.get(url)\n",
    "    time.sleep(2)\n",
    "    html = driver.page_source\n",
    "    soup = BeautifulSoup(html, \"html.parser\")\n",
    "    datalist = soup.findAll(\"div\", {\"class\":\"css-1asz3by\"})\n",
    "\n",
    "    # Looping\n",
    "    for data in datalist:\n",
    "        try:\n",
    "            dict = {\n",
    "                \"nama_produk\": data.find(\"div\", {\"class\": \"prd_link-product-name\"}).getText(),\n",
    "                \"harga_produk\": data.find(\"div\", {\"class\": \"prd_link-product-price\"}).getText(),\n",
    "                \"penjual\": data.find(\"span\", {\"class\": \"prd_link-shop-name\"}).getText(),\n",
    "                \"kota_toko\": data.find(\"span\", {\"class\": \"prd_link-shop-loc\"}).getText(),\n",
    "                \"banyaknya_terjual\": data.find(\"span\", {\"class\": \"prd_label-integrity\"}).getText(),\n",
    "                \"rating_produk\": data.find(\"span\", {\"class\": \"prd_rating-average-text\"}).getText()\n",
    "            }\n",
    "            dataset.append(dict)\n",
    "        except:\n",
    "            pass\n",
    "    print(len(dataset))\n",
    "print(len(dataset))"
   ]
  },
  {
   "cell_type": "code",
   "execution_count": 21,
   "metadata": {},
   "outputs": [
    {
     "data": {
      "text/html": [
       "<div>\n",
       "<style scoped>\n",
       "    .dataframe tbody tr th:only-of-type {\n",
       "        vertical-align: middle;\n",
       "    }\n",
       "\n",
       "    .dataframe tbody tr th {\n",
       "        vertical-align: top;\n",
       "    }\n",
       "\n",
       "    .dataframe thead th {\n",
       "        text-align: right;\n",
       "    }\n",
       "</style>\n",
       "<table border=\"1\" class=\"dataframe\">\n",
       "  <thead>\n",
       "    <tr style=\"text-align: right;\">\n",
       "      <th></th>\n",
       "      <th>nama_produk</th>\n",
       "      <th>harga_produk</th>\n",
       "      <th>penjual</th>\n",
       "      <th>kota_toko</th>\n",
       "      <th>banyaknya_terjual</th>\n",
       "      <th>rating_produk</th>\n",
       "    </tr>\n",
       "  </thead>\n",
       "  <tbody>\n",
       "    <tr>\n",
       "      <th>0</th>\n",
       "      <td>Gelifood Seblak Instan Kerupuk Mawar Bumbu Ken...</td>\n",
       "      <td>Rp13.000</td>\n",
       "      <td>Lidigeli</td>\n",
       "      <td>Kab. Garut</td>\n",
       "      <td>250+ terjual</td>\n",
       "      <td>4.8</td>\n",
       "    </tr>\n",
       "    <tr>\n",
       "      <th>1</th>\n",
       "      <td>Seblak Instan Ceu Nthien Khas Bandung Rasana N...</td>\n",
       "      <td>Rp17.000</td>\n",
       "      <td>Central Seblak Nusantara</td>\n",
       "      <td>Tangerang Selatan</td>\n",
       "      <td>2rb+ terjual</td>\n",
       "      <td>4.9</td>\n",
       "    </tr>\n",
       "    <tr>\n",
       "      <th>2</th>\n",
       "      <td>Seblak Rafael, Seblak Coet Instan Halal</td>\n",
       "      <td>Rp25.000</td>\n",
       "      <td>Brother Meat Shop</td>\n",
       "      <td>Depok</td>\n",
       "      <td>100+ terjual</td>\n",
       "      <td>4.9</td>\n",
       "    </tr>\n",
       "    <tr>\n",
       "      <th>3</th>\n",
       "      <td>Kylafood Seblak Cup Instan, Halal</td>\n",
       "      <td>Rp11.500</td>\n",
       "      <td>Brother Meat Shop</td>\n",
       "      <td>Depok</td>\n",
       "      <td>60+ terjual</td>\n",
       "      <td>5.0</td>\n",
       "    </tr>\n",
       "    <tr>\n",
       "      <th>4</th>\n",
       "      <td>KERUPUK SEBLAK MENTAH ANEKA WARNA</td>\n",
       "      <td>Rp11.500</td>\n",
       "      <td>jajanangarut19</td>\n",
       "      <td>Jakarta Selatan</td>\n",
       "      <td>250+ terjual</td>\n",
       "      <td>4.9</td>\n",
       "    </tr>\n",
       "    <tr>\n",
       "      <th>...</th>\n",
       "      <td>...</td>\n",
       "      <td>...</td>\n",
       "      <td>...</td>\n",
       "      <td>...</td>\n",
       "      <td>...</td>\n",
       "      <td>...</td>\n",
       "    </tr>\n",
       "    <tr>\n",
       "      <th>341</th>\n",
       "      <td>Seblak Instan Pedas Home Made</td>\n",
       "      <td>Rp3.500</td>\n",
       "      <td>the Dhecip</td>\n",
       "      <td>Tangerang Selatan</td>\n",
       "      <td>2rb+ terjual</td>\n",
       "      <td>4.8</td>\n",
       "    </tr>\n",
       "    <tr>\n",
       "      <th>342</th>\n",
       "      <td>Gelifood Seblak Instan Kerupuk Mawar Bumbu Ken...</td>\n",
       "      <td>Rp13.000</td>\n",
       "      <td>Lidigeli</td>\n",
       "      <td>Kab. Garut</td>\n",
       "      <td>250+ terjual</td>\n",
       "      <td>4.8</td>\n",
       "    </tr>\n",
       "    <tr>\n",
       "      <th>343</th>\n",
       "      <td>keripik beling/kaca 1/2 kg. bumbu seblak daun ...</td>\n",
       "      <td>Rp25.999</td>\n",
       "      <td>aghniya</td>\n",
       "      <td>Tangerang Selatan</td>\n",
       "      <td>250+ terjual</td>\n",
       "      <td>4.9</td>\n",
       "    </tr>\n",
       "    <tr>\n",
       "      <th>344</th>\n",
       "      <td>Seblak pedas kerupuk pedas kiloan 1 kg</td>\n",
       "      <td>Rp35.000</td>\n",
       "      <td>RIKI STORE 97</td>\n",
       "      <td>Kab. Bogor</td>\n",
       "      <td>100+ terjual</td>\n",
       "      <td>4.8</td>\n",
       "    </tr>\n",
       "    <tr>\n",
       "      <th>345</th>\n",
       "      <td>Seblak Instan Komplit Pedas Gurih Nikmat</td>\n",
       "      <td>Rp5.999</td>\n",
       "      <td>Baso Aci Ayang</td>\n",
       "      <td>Kab. Garut</td>\n",
       "      <td>2rb+ terjual</td>\n",
       "      <td>4.9</td>\n",
       "    </tr>\n",
       "  </tbody>\n",
       "</table>\n",
       "<p>346 rows × 6 columns</p>\n",
       "</div>"
      ],
      "text/plain": [
       "                                           nama_produk harga_produk  \\\n",
       "0    Gelifood Seblak Instan Kerupuk Mawar Bumbu Ken...     Rp13.000   \n",
       "1    Seblak Instan Ceu Nthien Khas Bandung Rasana N...     Rp17.000   \n",
       "2              Seblak Rafael, Seblak Coet Instan Halal     Rp25.000   \n",
       "3                    Kylafood Seblak Cup Instan, Halal     Rp11.500   \n",
       "4                    KERUPUK SEBLAK MENTAH ANEKA WARNA     Rp11.500   \n",
       "..                                                 ...          ...   \n",
       "341                      Seblak Instan Pedas Home Made      Rp3.500   \n",
       "342  Gelifood Seblak Instan Kerupuk Mawar Bumbu Ken...     Rp13.000   \n",
       "343  keripik beling/kaca 1/2 kg. bumbu seblak daun ...     Rp25.999   \n",
       "344             Seblak pedas kerupuk pedas kiloan 1 kg     Rp35.000   \n",
       "345           Seblak Instan Komplit Pedas Gurih Nikmat      Rp5.999   \n",
       "\n",
       "                      penjual          kota_toko banyaknya_terjual  \\\n",
       "0                    Lidigeli         Kab. Garut      250+ terjual   \n",
       "1    Central Seblak Nusantara  Tangerang Selatan      2rb+ terjual   \n",
       "2           Brother Meat Shop              Depok      100+ terjual   \n",
       "3           Brother Meat Shop              Depok       60+ terjual   \n",
       "4              jajanangarut19    Jakarta Selatan      250+ terjual   \n",
       "..                        ...                ...               ...   \n",
       "341                the Dhecip  Tangerang Selatan      2rb+ terjual   \n",
       "342                  Lidigeli         Kab. Garut      250+ terjual   \n",
       "343                   aghniya  Tangerang Selatan      250+ terjual   \n",
       "344             RIKI STORE 97         Kab. Bogor      100+ terjual   \n",
       "345            Baso Aci Ayang         Kab. Garut      2rb+ terjual   \n",
       "\n",
       "    rating_produk  \n",
       "0             4.8  \n",
       "1             4.9  \n",
       "2             4.9  \n",
       "3             5.0  \n",
       "4             4.9  \n",
       "..            ...  \n",
       "341           4.8  \n",
       "342           4.8  \n",
       "343           4.9  \n",
       "344           4.8  \n",
       "345           4.9  \n",
       "\n",
       "[346 rows x 6 columns]"
      ]
     },
     "execution_count": 21,
     "metadata": {},
     "output_type": "execute_result"
    }
   ],
   "source": [
    "# Membuat sebuah variabel df dan mengubah dataset ke pandas dataframe\n",
    "df = pd.DataFrame(dataset)\n",
    "df"
   ]
  },
  {
   "cell_type": "markdown",
   "metadata": {},
   "source": [
    "Berhasil melakukan scraping dan mendapatkan hasil yang sudah diubah ke pandas dataframe."
   ]
  },
  {
   "cell_type": "code",
   "execution_count": 22,
   "metadata": {},
   "outputs": [],
   "source": [
    "# Export ke csv\n",
    "df.to_csv(\"SeblakDataRaw.csv\", index=False)"
   ]
  },
  {
   "cell_type": "markdown",
   "metadata": {},
   "source": [
    "Melakukan export dataframe ke csv dengan nama \"SeblakDataRaw.csv\""
   ]
  },
  {
   "cell_type": "markdown",
   "metadata": {},
   "source": [
    "## Data Preparation"
   ]
  },
  {
   "cell_type": "markdown",
   "metadata": {},
   "source": [
    "### Data Knowledge"
   ]
  },
  {
   "cell_type": "code",
   "execution_count": 4,
   "metadata": {},
   "outputs": [
    {
     "name": "stdout",
     "output_type": "stream",
     "text": [
      "<class 'pandas.core.frame.DataFrame'>\n",
      "RangeIndex: 346 entries, 0 to 345\n",
      "Data columns (total 6 columns):\n",
      " #   Column             Non-Null Count  Dtype  \n",
      "---  ------             --------------  -----  \n",
      " 0   nama_produk        346 non-null    object \n",
      " 1   harga_produk       346 non-null    object \n",
      " 2   penjual            346 non-null    object \n",
      " 3   kota_toko          346 non-null    object \n",
      " 4   banyaknya_terjual  346 non-null    object \n",
      " 5   rating_produk      346 non-null    float64\n",
      "dtypes: float64(1), object(5)\n",
      "memory usage: 16.3+ KB\n",
      "None\n"
     ]
    },
    {
     "data": {
      "text/html": [
       "<div>\n",
       "<style scoped>\n",
       "    .dataframe tbody tr th:only-of-type {\n",
       "        vertical-align: middle;\n",
       "    }\n",
       "\n",
       "    .dataframe tbody tr th {\n",
       "        vertical-align: top;\n",
       "    }\n",
       "\n",
       "    .dataframe thead th {\n",
       "        text-align: right;\n",
       "    }\n",
       "</style>\n",
       "<table border=\"1\" class=\"dataframe\">\n",
       "  <thead>\n",
       "    <tr style=\"text-align: right;\">\n",
       "      <th></th>\n",
       "      <th>nama_produk</th>\n",
       "      <th>harga_produk</th>\n",
       "      <th>penjual</th>\n",
       "      <th>kota_toko</th>\n",
       "      <th>banyaknya_terjual</th>\n",
       "      <th>rating_produk</th>\n",
       "    </tr>\n",
       "  </thead>\n",
       "  <tbody>\n",
       "    <tr>\n",
       "      <th>0</th>\n",
       "      <td>Gelifood Seblak Instan Kerupuk Mawar Bumbu Ken...</td>\n",
       "      <td>Rp13.000</td>\n",
       "      <td>Lidigeli</td>\n",
       "      <td>Kab. Garut</td>\n",
       "      <td>250+ terjual</td>\n",
       "      <td>4.8</td>\n",
       "    </tr>\n",
       "    <tr>\n",
       "      <th>1</th>\n",
       "      <td>Seblak Instan Ceu Nthien Khas Bandung Rasana N...</td>\n",
       "      <td>Rp17.000</td>\n",
       "      <td>Central Seblak Nusantara</td>\n",
       "      <td>Tangerang Selatan</td>\n",
       "      <td>2rb+ terjual</td>\n",
       "      <td>4.9</td>\n",
       "    </tr>\n",
       "    <tr>\n",
       "      <th>2</th>\n",
       "      <td>Seblak Rafael, Seblak Coet Instan Halal</td>\n",
       "      <td>Rp25.000</td>\n",
       "      <td>Brother Meat Shop</td>\n",
       "      <td>Depok</td>\n",
       "      <td>100+ terjual</td>\n",
       "      <td>4.9</td>\n",
       "    </tr>\n",
       "    <tr>\n",
       "      <th>3</th>\n",
       "      <td>Kylafood Seblak Cup Instan, Halal</td>\n",
       "      <td>Rp11.500</td>\n",
       "      <td>Brother Meat Shop</td>\n",
       "      <td>Depok</td>\n",
       "      <td>60+ terjual</td>\n",
       "      <td>5.0</td>\n",
       "    </tr>\n",
       "    <tr>\n",
       "      <th>4</th>\n",
       "      <td>KERUPUK SEBLAK MENTAH ANEKA WARNA</td>\n",
       "      <td>Rp11.500</td>\n",
       "      <td>jajanangarut19</td>\n",
       "      <td>Jakarta Selatan</td>\n",
       "      <td>250+ terjual</td>\n",
       "      <td>4.9</td>\n",
       "    </tr>\n",
       "  </tbody>\n",
       "</table>\n",
       "</div>"
      ],
      "text/plain": [
       "                                         nama_produk harga_produk  \\\n",
       "0  Gelifood Seblak Instan Kerupuk Mawar Bumbu Ken...     Rp13.000   \n",
       "1  Seblak Instan Ceu Nthien Khas Bandung Rasana N...     Rp17.000   \n",
       "2            Seblak Rafael, Seblak Coet Instan Halal     Rp25.000   \n",
       "3                  Kylafood Seblak Cup Instan, Halal     Rp11.500   \n",
       "4                  KERUPUK SEBLAK MENTAH ANEKA WARNA     Rp11.500   \n",
       "\n",
       "                    penjual          kota_toko banyaknya_terjual  \\\n",
       "0                  Lidigeli         Kab. Garut      250+ terjual   \n",
       "1  Central Seblak Nusantara  Tangerang Selatan      2rb+ terjual   \n",
       "2         Brother Meat Shop              Depok      100+ terjual   \n",
       "3         Brother Meat Shop              Depok       60+ terjual   \n",
       "4            jajanangarut19    Jakarta Selatan      250+ terjual   \n",
       "\n",
       "   rating_produk  \n",
       "0            4.8  \n",
       "1            4.9  \n",
       "2            4.9  \n",
       "3            5.0  \n",
       "4            4.9  "
      ]
     },
     "execution_count": 4,
     "metadata": {},
     "output_type": "execute_result"
    }
   ],
   "source": [
    "# Membaca data csv\n",
    "dataRaw = pd.read_csv(\"SeblakDataRaw.csv\")\n",
    "print(dataRaw.info())\n",
    "dataRaw.head()"
   ]
  },
  {
   "cell_type": "markdown",
   "metadata": {},
   "source": [
    "Terdapat 6 kolom dan 346 produk"
   ]
  },
  {
   "cell_type": "code",
   "execution_count": 34,
   "metadata": {},
   "outputs": [
    {
     "name": "stdout",
     "output_type": "stream",
     "text": [
      "['Kab. Garut' 'Tangerang Selatan' 'Depok' 'Jakarta Selatan'\n",
      " 'Jakarta Timur' 'Kab. Bogor' 'Jakarta Barat' 'Bekasi' 'Surakarta'\n",
      " 'Kab. Bekasi' 'Kab.Ciamis' 'Jakarta Pusat' 'Cimahi' 'Palembang'\n",
      " 'Kab. Tangerang' 'Surabaya' 'Bandung' 'Banjarbaru' 'Tasikmalaya'\n",
      " 'Tangerang' 'Kab. Bandung' 'Kab. Sumedang' 'Semarang' 'Kab. Gresik'\n",
      " 'Jakarta Utara']\n"
     ]
    },
    {
     "data": {
      "text/plain": [
       "25"
      ]
     },
     "execution_count": 34,
     "metadata": {},
     "output_type": "execute_result"
    }
   ],
   "source": [
    "# Mencari unik value pada kolom kota_toko\n",
    "print(dataRaw['kota_toko'].unique())\n",
    "len(dataRaw['kota_toko'].unique())"
   ]
  },
  {
   "cell_type": "markdown",
   "metadata": {},
   "source": [
    "Diketahui terdapat 25 kota pada data."
   ]
  },
  {
   "cell_type": "markdown",
   "metadata": {},
   "source": [
    "### Data Cleaning"
   ]
  },
  {
   "cell_type": "code",
   "execution_count": 44,
   "metadata": {},
   "outputs": [
    {
     "data": {
      "text/plain": [
       "nama_produk          False\n",
       "harga_produk         False\n",
       "penjual              False\n",
       "kota_toko            False\n",
       "banyaknya_terjual    False\n",
       "rating_produk        False\n",
       "dtype: bool"
      ]
     },
     "execution_count": 44,
     "metadata": {},
     "output_type": "execute_result"
    }
   ],
   "source": [
    "# Melakukan pengecekan null values\n",
    "dataRaw.isnull().any()"
   ]
  },
  {
   "cell_type": "markdown",
   "metadata": {},
   "source": [
    "Tidak terdapat null value pada data"
   ]
  },
  {
   "cell_type": "code",
   "execution_count": 10,
   "metadata": {},
   "outputs": [],
   "source": [
    "# Melakukan import library\n",
    "import pandas as pd"
   ]
  },
  {
   "cell_type": "code",
   "execution_count": 2,
   "metadata": {},
   "outputs": [
    {
     "name": "stdout",
     "output_type": "stream",
     "text": [
      "<class 'pandas.core.frame.DataFrame'>\n",
      "RangeIndex: 346 entries, 0 to 345\n",
      "Data columns (total 6 columns):\n",
      " #   Column             Non-Null Count  Dtype  \n",
      "---  ------             --------------  -----  \n",
      " 0   nama_produk        346 non-null    object \n",
      " 1   harga_produk       346 non-null    int32  \n",
      " 2   penjual            346 non-null    object \n",
      " 3   kota_toko          346 non-null    object \n",
      " 4   banyaknya_terjual  346 non-null    int32  \n",
      " 5   rating_produk      346 non-null    float64\n",
      "dtypes: float64(1), int32(2), object(3)\n",
      "memory usage: 13.6+ KB\n"
     ]
    }
   ],
   "source": [
    "# Melakukan pembacaan data csv dan menghilangkan symbol\n",
    "dataRaw = pd.read_csv(\"SeblakDataRaw.csv\")\n",
    "dataRaw[\"harga_produk\"] = dataRaw[\"harga_produk\"].str.replace(\"Rp\", \"\").str.replace(\".\", \"\").astype(int)\n",
    "dataRaw[\"banyaknya_terjual\"] = dataRaw[\"banyaknya_terjual\"].str.replace(\"rb\", \"000\").str.replace(\"+\", \"\").str.replace(\" terjual\", \"\").astype(int)\n",
    "dataRaw.info()\n"
   ]
  },
  {
   "cell_type": "markdown",
   "metadata": {},
   "source": [
    "Melakukan cleaning dengan cara menghapus simbol \"Rp\", \".\", \"rb\", \"000\", \"+\", \"terjual\" dan merubah data typenya ke integer."
   ]
  },
  {
   "cell_type": "code",
   "execution_count": 7,
   "metadata": {},
   "outputs": [
    {
     "name": "stdout",
     "output_type": "stream",
     "text": [
      "['Kab. Garut' 'Tangerang Selatan' 'Depok' 'Jakarta Selatan'\n",
      " 'Jakarta Timur' 'Kab. Bogor' 'Jakarta Barat' 'Bekasi' 'Surakarta'\n",
      " 'Kab. Bekasi' 'Kab.Ciamis' 'Jakarta Pusat' 'Cimahi' 'Palembang'\n",
      " 'Kab. Tangerang' 'Surabaya' 'Bandung' 'Banjarbaru' 'Tasikmalaya'\n",
      " 'Tangerang' 'Kab. Bandung' 'Kab. Sumedang' 'Semarang' 'Kab. Gresik'\n",
      " 'Jakarta Utara']\n"
     ]
    }
   ],
   "source": [
    "# Mencari nilai unik dari kolom kota_toko\n",
    "print(dataRaw['kota_toko'].unique())"
   ]
  },
  {
   "cell_type": "markdown",
   "metadata": {},
   "source": [
    "Diketahui bahwa terdapat 25 kota yang berbeda dari data."
   ]
  },
  {
   "cell_type": "code",
   "execution_count": 6,
   "metadata": {},
   "outputs": [
    {
     "data": {
      "text/html": [
       "<div>\n",
       "<style scoped>\n",
       "    .dataframe tbody tr th:only-of-type {\n",
       "        vertical-align: middle;\n",
       "    }\n",
       "\n",
       "    .dataframe tbody tr th {\n",
       "        vertical-align: top;\n",
       "    }\n",
       "\n",
       "    .dataframe thead th {\n",
       "        text-align: right;\n",
       "    }\n",
       "</style>\n",
       "<table border=\"1\" class=\"dataframe\">\n",
       "  <thead>\n",
       "    <tr style=\"text-align: right;\">\n",
       "      <th></th>\n",
       "      <th>nama_produk</th>\n",
       "      <th>harga_produk</th>\n",
       "      <th>penjual</th>\n",
       "      <th>kota_toko</th>\n",
       "      <th>banyaknya_terjual</th>\n",
       "      <th>rating_produk</th>\n",
       "      <th>jabodetabek</th>\n",
       "    </tr>\n",
       "  </thead>\n",
       "  <tbody>\n",
       "    <tr>\n",
       "      <th>0</th>\n",
       "      <td>Gelifood Seblak Instan Kerupuk Mawar Bumbu Ken...</td>\n",
       "      <td>13000</td>\n",
       "      <td>Lidigeli</td>\n",
       "      <td>Kab. Garut</td>\n",
       "      <td>250</td>\n",
       "      <td>4.8</td>\n",
       "      <td>Luar Jabodetabek</td>\n",
       "    </tr>\n",
       "    <tr>\n",
       "      <th>1</th>\n",
       "      <td>Seblak Instan Ceu Nthien Khas Bandung Rasana N...</td>\n",
       "      <td>17000</td>\n",
       "      <td>Central Seblak Nusantara</td>\n",
       "      <td>Tangerang Selatan</td>\n",
       "      <td>2000</td>\n",
       "      <td>4.9</td>\n",
       "      <td>Jabodetabek</td>\n",
       "    </tr>\n",
       "    <tr>\n",
       "      <th>2</th>\n",
       "      <td>Seblak Rafael, Seblak Coet Instan Halal</td>\n",
       "      <td>25000</td>\n",
       "      <td>Brother Meat Shop</td>\n",
       "      <td>Depok</td>\n",
       "      <td>100</td>\n",
       "      <td>4.9</td>\n",
       "      <td>Jabodetabek</td>\n",
       "    </tr>\n",
       "    <tr>\n",
       "      <th>3</th>\n",
       "      <td>Kylafood Seblak Cup Instan, Halal</td>\n",
       "      <td>11500</td>\n",
       "      <td>Brother Meat Shop</td>\n",
       "      <td>Depok</td>\n",
       "      <td>60</td>\n",
       "      <td>5.0</td>\n",
       "      <td>Jabodetabek</td>\n",
       "    </tr>\n",
       "    <tr>\n",
       "      <th>4</th>\n",
       "      <td>KERUPUK SEBLAK MENTAH ANEKA WARNA</td>\n",
       "      <td>11500</td>\n",
       "      <td>jajanangarut19</td>\n",
       "      <td>Jakarta Selatan</td>\n",
       "      <td>250</td>\n",
       "      <td>4.9</td>\n",
       "      <td>Jabodetabek</td>\n",
       "    </tr>\n",
       "    <tr>\n",
       "      <th>...</th>\n",
       "      <td>...</td>\n",
       "      <td>...</td>\n",
       "      <td>...</td>\n",
       "      <td>...</td>\n",
       "      <td>...</td>\n",
       "      <td>...</td>\n",
       "      <td>...</td>\n",
       "    </tr>\n",
       "    <tr>\n",
       "      <th>341</th>\n",
       "      <td>Seblak Instan Pedas Home Made</td>\n",
       "      <td>3500</td>\n",
       "      <td>the Dhecip</td>\n",
       "      <td>Tangerang Selatan</td>\n",
       "      <td>2000</td>\n",
       "      <td>4.8</td>\n",
       "      <td>Jabodetabek</td>\n",
       "    </tr>\n",
       "    <tr>\n",
       "      <th>342</th>\n",
       "      <td>Gelifood Seblak Instan Kerupuk Mawar Bumbu Ken...</td>\n",
       "      <td>13000</td>\n",
       "      <td>Lidigeli</td>\n",
       "      <td>Kab. Garut</td>\n",
       "      <td>250</td>\n",
       "      <td>4.8</td>\n",
       "      <td>Luar Jabodetabek</td>\n",
       "    </tr>\n",
       "    <tr>\n",
       "      <th>343</th>\n",
       "      <td>keripik beling/kaca 1/2 kg. bumbu seblak daun ...</td>\n",
       "      <td>25999</td>\n",
       "      <td>aghniya</td>\n",
       "      <td>Tangerang Selatan</td>\n",
       "      <td>250</td>\n",
       "      <td>4.9</td>\n",
       "      <td>Jabodetabek</td>\n",
       "    </tr>\n",
       "    <tr>\n",
       "      <th>344</th>\n",
       "      <td>Seblak pedas kerupuk pedas kiloan 1 kg</td>\n",
       "      <td>35000</td>\n",
       "      <td>RIKI STORE 97</td>\n",
       "      <td>Kab. Bogor</td>\n",
       "      <td>100</td>\n",
       "      <td>4.8</td>\n",
       "      <td>Jabodetabek</td>\n",
       "    </tr>\n",
       "    <tr>\n",
       "      <th>345</th>\n",
       "      <td>Seblak Instan Komplit Pedas Gurih Nikmat</td>\n",
       "      <td>5999</td>\n",
       "      <td>Baso Aci Ayang</td>\n",
       "      <td>Kab. Garut</td>\n",
       "      <td>2000</td>\n",
       "      <td>4.9</td>\n",
       "      <td>Luar Jabodetabek</td>\n",
       "    </tr>\n",
       "  </tbody>\n",
       "</table>\n",
       "<p>346 rows × 7 columns</p>\n",
       "</div>"
      ],
      "text/plain": [
       "                                           nama_produk  harga_produk  \\\n",
       "0    Gelifood Seblak Instan Kerupuk Mawar Bumbu Ken...         13000   \n",
       "1    Seblak Instan Ceu Nthien Khas Bandung Rasana N...         17000   \n",
       "2              Seblak Rafael, Seblak Coet Instan Halal         25000   \n",
       "3                    Kylafood Seblak Cup Instan, Halal         11500   \n",
       "4                    KERUPUK SEBLAK MENTAH ANEKA WARNA         11500   \n",
       "..                                                 ...           ...   \n",
       "341                      Seblak Instan Pedas Home Made          3500   \n",
       "342  Gelifood Seblak Instan Kerupuk Mawar Bumbu Ken...         13000   \n",
       "343  keripik beling/kaca 1/2 kg. bumbu seblak daun ...         25999   \n",
       "344             Seblak pedas kerupuk pedas kiloan 1 kg         35000   \n",
       "345           Seblak Instan Komplit Pedas Gurih Nikmat          5999   \n",
       "\n",
       "                      penjual          kota_toko  banyaknya_terjual  \\\n",
       "0                    Lidigeli         Kab. Garut                250   \n",
       "1    Central Seblak Nusantara  Tangerang Selatan               2000   \n",
       "2           Brother Meat Shop              Depok                100   \n",
       "3           Brother Meat Shop              Depok                 60   \n",
       "4              jajanangarut19    Jakarta Selatan                250   \n",
       "..                        ...                ...                ...   \n",
       "341                the Dhecip  Tangerang Selatan               2000   \n",
       "342                  Lidigeli         Kab. Garut                250   \n",
       "343                   aghniya  Tangerang Selatan                250   \n",
       "344             RIKI STORE 97         Kab. Bogor                100   \n",
       "345            Baso Aci Ayang         Kab. Garut               2000   \n",
       "\n",
       "     rating_produk       jabodetabek  \n",
       "0              4.8  Luar Jabodetabek  \n",
       "1              4.9       Jabodetabek  \n",
       "2              4.9       Jabodetabek  \n",
       "3              5.0       Jabodetabek  \n",
       "4              4.9       Jabodetabek  \n",
       "..             ...               ...  \n",
       "341            4.8       Jabodetabek  \n",
       "342            4.8  Luar Jabodetabek  \n",
       "343            4.9       Jabodetabek  \n",
       "344            4.8       Jabodetabek  \n",
       "345            4.9  Luar Jabodetabek  \n",
       "\n",
       "[346 rows x 7 columns]"
      ]
     },
     "execution_count": 6,
     "metadata": {},
     "output_type": "execute_result"
    }
   ],
   "source": [
    "# Membuat sebuah kolom baru untuk kota-kota yang ada di jabodetabek dan luar jabodetabek.\n",
    "jabodetabek_list = []\n",
    "for kota in dataRaw['kota_toko']:\n",
    "    if kota in ['Tangerang Selatan', 'Depok', 'Jakarta Selatan','Jakarta Timur', \n",
    "               'Kab. Bogor', 'Jakarta Barat', 'Bekasi', 'Kab. Bekasi', 'Jakarta Pusat', 'Kab. Tangerang', 'Tangerang', 'Jakarta Utara']:\n",
    "        jabodetabek_list.append('Jabodetabek')\n",
    "    else:\n",
    "        jabodetabek_list.append('Luar Jabodetabek')\n",
    "\n",
    "dataRaw['jabodetabek'] = jabodetabek_list\n",
    "dataRaw"
   ]
  },
  {
   "cell_type": "markdown",
   "metadata": {},
   "source": [
    "Membuat sebuah kolom baru bernama jabodetabek dan mengklasifikasikan produk dengan kota jabodetabek dan luar jabodetabek"
   ]
  },
  {
   "cell_type": "code",
   "execution_count": 8,
   "metadata": {},
   "outputs": [],
   "source": [
    "# Export ke csv\n",
    "dataRaw.to_csv(\"SeblakDataClean.csv\", index=False)"
   ]
  },
  {
   "cell_type": "markdown",
   "metadata": {},
   "source": [
    "Export data ke csv"
   ]
  },
  {
   "cell_type": "markdown",
   "metadata": {},
   "source": [
    "## Business Understanding/Problem Statement"
   ]
  },
  {
   "cell_type": "markdown",
   "metadata": {},
   "source": [
    "Untuk bisa mendapatkan pendapatan tambahan, saya mencoba mencari cara salah satunya adalah dengan berjualan. Karena modal yang dibutuhkan untuk berjualan lumayan besar dan saya tidak memiliki modal yang banyak, saya memutuskan untuk melakukan dropship. Salah satu produk yang ingin saya lakukan dropship adalah produk seblak. Karena, produk seblak sedang viral yang mana pastinya akan lebih mudah untuk menjualnya. Untuk mendapatkan data yang lebih jelas dan pasti mengenai animo masyarakat dengan seblak serta memperkirakan keuntungan, pertama-tama saya ingin membuat SMART framework sebelum memulai analisis data.  \n",
    "\n",
    "Specific = Mendapatkan keuntungan lebih dari menjual produk seblak.  \n",
    "\n",
    "Measurable = Bisa meningkatkan pendapatan hingga 30% dari menjual seblak.\n",
    "\n",
    "Achiveable = Dengan menganalisa data yang didapat, saya bisa melakukan kalkulasi terkait seberapa besar profit yang akan saya dapatkan jika menjalankan dropship seblak.\n",
    "\n",
    "Relevant = Karena seblak yang sedang viral dan memiliki potensi penjualan yang besar pada saat ini, sangat mendukung tujuan saya untuk mendapatkan pendapatan lebih dari menjual seblak.\n",
    "\n",
    "Time-bound = Satu bulan saya sudah bisa mendapatkan pendapatan tambahan dari dropshipping seblak.\n",
    "\n",
    "Mengetahui apakah produk seblak yang sedang viral memiliki animo yang besar di masyarakat. Dengan cara, melakukan pengumpulan data hingga melakukan analisa terhadap data yang di dapat, agar bisa memperkirakan seberapa besar profit yang bisa didapat jika melakukan dropship seblak. Dalam jangka waktu satu bulan diperkirakan sudah bisa mendapatkan pendapatan tambahan dari dropship seblak."
   ]
  },
  {
   "cell_type": "markdown",
   "metadata": {},
   "source": [
    "## Analysis"
   ]
  },
  {
   "cell_type": "code",
   "execution_count": 2,
   "metadata": {},
   "outputs": [],
   "source": [
    "# Melakukan import library\n",
    "import numpy as np\n",
    "from scipy import stats"
   ]
  },
  {
   "cell_type": "code",
   "execution_count": 3,
   "metadata": {},
   "outputs": [
    {
     "data": {
      "text/html": [
       "<div>\n",
       "<style scoped>\n",
       "    .dataframe tbody tr th:only-of-type {\n",
       "        vertical-align: middle;\n",
       "    }\n",
       "\n",
       "    .dataframe tbody tr th {\n",
       "        vertical-align: top;\n",
       "    }\n",
       "\n",
       "    .dataframe thead th {\n",
       "        text-align: right;\n",
       "    }\n",
       "</style>\n",
       "<table border=\"1\" class=\"dataframe\">\n",
       "  <thead>\n",
       "    <tr style=\"text-align: right;\">\n",
       "      <th></th>\n",
       "      <th>nama_produk</th>\n",
       "      <th>harga_produk</th>\n",
       "      <th>penjual</th>\n",
       "      <th>kota_toko</th>\n",
       "      <th>banyaknya_terjual</th>\n",
       "      <th>rating_produk</th>\n",
       "      <th>jabodetabek</th>\n",
       "    </tr>\n",
       "  </thead>\n",
       "  <tbody>\n",
       "    <tr>\n",
       "      <th>0</th>\n",
       "      <td>Gelifood Seblak Instan Kerupuk Mawar Bumbu Ken...</td>\n",
       "      <td>13000</td>\n",
       "      <td>Lidigeli</td>\n",
       "      <td>Kab. Garut</td>\n",
       "      <td>250</td>\n",
       "      <td>4.8</td>\n",
       "      <td>Luar Jabodetabek</td>\n",
       "    </tr>\n",
       "    <tr>\n",
       "      <th>1</th>\n",
       "      <td>Seblak Instan Ceu Nthien Khas Bandung Rasana N...</td>\n",
       "      <td>17000</td>\n",
       "      <td>Central Seblak Nusantara</td>\n",
       "      <td>Tangerang Selatan</td>\n",
       "      <td>2000</td>\n",
       "      <td>4.9</td>\n",
       "      <td>Jabodetabek</td>\n",
       "    </tr>\n",
       "    <tr>\n",
       "      <th>2</th>\n",
       "      <td>Seblak Rafael, Seblak Coet Instan Halal</td>\n",
       "      <td>25000</td>\n",
       "      <td>Brother Meat Shop</td>\n",
       "      <td>Depok</td>\n",
       "      <td>100</td>\n",
       "      <td>4.9</td>\n",
       "      <td>Jabodetabek</td>\n",
       "    </tr>\n",
       "    <tr>\n",
       "      <th>3</th>\n",
       "      <td>Kylafood Seblak Cup Instan, Halal</td>\n",
       "      <td>11500</td>\n",
       "      <td>Brother Meat Shop</td>\n",
       "      <td>Depok</td>\n",
       "      <td>60</td>\n",
       "      <td>5.0</td>\n",
       "      <td>Jabodetabek</td>\n",
       "    </tr>\n",
       "    <tr>\n",
       "      <th>4</th>\n",
       "      <td>KERUPUK SEBLAK MENTAH ANEKA WARNA</td>\n",
       "      <td>11500</td>\n",
       "      <td>jajanangarut19</td>\n",
       "      <td>Jakarta Selatan</td>\n",
       "      <td>250</td>\n",
       "      <td>4.9</td>\n",
       "      <td>Jabodetabek</td>\n",
       "    </tr>\n",
       "    <tr>\n",
       "      <th>...</th>\n",
       "      <td>...</td>\n",
       "      <td>...</td>\n",
       "      <td>...</td>\n",
       "      <td>...</td>\n",
       "      <td>...</td>\n",
       "      <td>...</td>\n",
       "      <td>...</td>\n",
       "    </tr>\n",
       "    <tr>\n",
       "      <th>341</th>\n",
       "      <td>Seblak Instan Pedas Home Made</td>\n",
       "      <td>3500</td>\n",
       "      <td>the Dhecip</td>\n",
       "      <td>Tangerang Selatan</td>\n",
       "      <td>2000</td>\n",
       "      <td>4.8</td>\n",
       "      <td>Jabodetabek</td>\n",
       "    </tr>\n",
       "    <tr>\n",
       "      <th>342</th>\n",
       "      <td>Gelifood Seblak Instan Kerupuk Mawar Bumbu Ken...</td>\n",
       "      <td>13000</td>\n",
       "      <td>Lidigeli</td>\n",
       "      <td>Kab. Garut</td>\n",
       "      <td>250</td>\n",
       "      <td>4.8</td>\n",
       "      <td>Luar Jabodetabek</td>\n",
       "    </tr>\n",
       "    <tr>\n",
       "      <th>343</th>\n",
       "      <td>keripik beling/kaca 1/2 kg. bumbu seblak daun ...</td>\n",
       "      <td>25999</td>\n",
       "      <td>aghniya</td>\n",
       "      <td>Tangerang Selatan</td>\n",
       "      <td>250</td>\n",
       "      <td>4.9</td>\n",
       "      <td>Jabodetabek</td>\n",
       "    </tr>\n",
       "    <tr>\n",
       "      <th>344</th>\n",
       "      <td>Seblak pedas kerupuk pedas kiloan 1 kg</td>\n",
       "      <td>35000</td>\n",
       "      <td>RIKI STORE 97</td>\n",
       "      <td>Kab. Bogor</td>\n",
       "      <td>100</td>\n",
       "      <td>4.8</td>\n",
       "      <td>Jabodetabek</td>\n",
       "    </tr>\n",
       "    <tr>\n",
       "      <th>345</th>\n",
       "      <td>Seblak Instan Komplit Pedas Gurih Nikmat</td>\n",
       "      <td>5999</td>\n",
       "      <td>Baso Aci Ayang</td>\n",
       "      <td>Kab. Garut</td>\n",
       "      <td>2000</td>\n",
       "      <td>4.9</td>\n",
       "      <td>Luar Jabodetabek</td>\n",
       "    </tr>\n",
       "  </tbody>\n",
       "</table>\n",
       "<p>346 rows × 7 columns</p>\n",
       "</div>"
      ],
      "text/plain": [
       "                                           nama_produk  harga_produk  \\\n",
       "0    Gelifood Seblak Instan Kerupuk Mawar Bumbu Ken...         13000   \n",
       "1    Seblak Instan Ceu Nthien Khas Bandung Rasana N...         17000   \n",
       "2              Seblak Rafael, Seblak Coet Instan Halal         25000   \n",
       "3                    Kylafood Seblak Cup Instan, Halal         11500   \n",
       "4                    KERUPUK SEBLAK MENTAH ANEKA WARNA         11500   \n",
       "..                                                 ...           ...   \n",
       "341                      Seblak Instan Pedas Home Made          3500   \n",
       "342  Gelifood Seblak Instan Kerupuk Mawar Bumbu Ken...         13000   \n",
       "343  keripik beling/kaca 1/2 kg. bumbu seblak daun ...         25999   \n",
       "344             Seblak pedas kerupuk pedas kiloan 1 kg         35000   \n",
       "345           Seblak Instan Komplit Pedas Gurih Nikmat          5999   \n",
       "\n",
       "                      penjual          kota_toko  banyaknya_terjual  \\\n",
       "0                    Lidigeli         Kab. Garut                250   \n",
       "1    Central Seblak Nusantara  Tangerang Selatan               2000   \n",
       "2           Brother Meat Shop              Depok                100   \n",
       "3           Brother Meat Shop              Depok                 60   \n",
       "4              jajanangarut19    Jakarta Selatan                250   \n",
       "..                        ...                ...                ...   \n",
       "341                the Dhecip  Tangerang Selatan               2000   \n",
       "342                  Lidigeli         Kab. Garut                250   \n",
       "343                   aghniya  Tangerang Selatan                250   \n",
       "344             RIKI STORE 97         Kab. Bogor                100   \n",
       "345            Baso Aci Ayang         Kab. Garut               2000   \n",
       "\n",
       "     rating_produk       jabodetabek  \n",
       "0              4.8  Luar Jabodetabek  \n",
       "1              4.9       Jabodetabek  \n",
       "2              4.9       Jabodetabek  \n",
       "3              5.0       Jabodetabek  \n",
       "4              4.9       Jabodetabek  \n",
       "..             ...               ...  \n",
       "341            4.8       Jabodetabek  \n",
       "342            4.8  Luar Jabodetabek  \n",
       "343            4.9       Jabodetabek  \n",
       "344            4.8       Jabodetabek  \n",
       "345            4.9  Luar Jabodetabek  \n",
       "\n",
       "[346 rows x 7 columns]"
      ]
     },
     "execution_count": 3,
     "metadata": {},
     "output_type": "execute_result"
    }
   ],
   "source": [
    "# Melakukan pembacaan data dari csv\n",
    "dataClean = pd.read_csv(\"SeblakDataClean.csv\")\n",
    "dataClean"
   ]
  },
  {
   "cell_type": "markdown",
   "metadata": {},
   "source": [
    "### Analisis Harga Produk"
   ]
  },
  {
   "cell_type": "code",
   "execution_count": 10,
   "metadata": {},
   "outputs": [
    {
     "name": "stdout",
     "output_type": "stream",
     "text": [
      "Rata-rata harga produk adalah 18060.904624277457\n",
      "Median harga produk adalah 14999.0\n",
      "Standar Deviasi dari harga produk adalah 14233.310073617693\n",
      "Skewness: 2.205659881056513\n",
      "Kurtosis: 8.986951040870522\n"
     ]
    }
   ],
   "source": [
    "\n",
    "# Menghitung nilai rata-rata dari kolom harga_produk dan memasukkannya ke dalam variabel mean\n",
    "mean = dataClean.harga_produk.mean()\n",
    "\n",
    "# Menghitung nilai median dari kolom harga_produk dan memasukkannya ke dalam variabel median\n",
    "median = dataClean.harga_produk.median()\n",
    "\n",
    "# Menghitung nilai standar deviasi dari kolom harga_produk dan memasukkannya ke dalam variabel modus\n",
    "std_dev = dataClean.harga_produk.std()\n",
    "\n",
    "print(f'Rata-rata harga produk adalah {mean}')\n",
    "print(f'Median harga produk adalah {median}')\n",
    "print(f'Standar Deviasi dari harga produk adalah {std_dev}')\n",
    "\n",
    "# Melakukan pencarian skewness\n",
    "print(f\"Skewness: {dataClean['harga_produk'].skew()}\")\n",
    "# Melakukan pencarian kurtosis\n",
    "print(f\"Kurtosis: {dataClean['harga_produk'].kurtosis()}\")\n",
    "     "
   ]
  },
  {
   "cell_type": "markdown",
   "metadata": {},
   "source": [
    "Diketahui berdasarkan hasil di atas bahwa kolom harga_produk memiliki nilai rata-rata = 18060.904624277457 dengan nilai median = 14999.0  dan standar deviasi = 14233.310073617693. Terlihat bahwa median lebih rendah dari rata-rata, kemungkinan terdapat nilai tinggi yang mempengaruhi rata-rata. Standar deviasi yang memiliki nilai tinggi menunjukkan variasi besar dalam harga produk. Dari data tersebut dapat diambil kesimpulan bahwa rata-rata harga seblak adalah Rp.18.060. dengan harga tengahnya adalah Rp.14.999.\n",
    "\n",
    "Dari perhitungan di atas juga dapat dilihat bahwa skewnessnya adalah 2.205659881056513 yang berarti distribusi condong ke kanan atau positif.\n",
    "\n",
    "Nilai kurtosisnya adalah 8.986951040870522 yang menggambarkan leptokurtic karena memiliki ekor yang lebih berat dibandingkan distribusi normal. Kemungkinan terdapat outlier yang signifikan."
   ]
  },
  {
   "cell_type": "markdown",
   "metadata": {},
   "source": [
    "### Analisis Banyaknya Produk Terjual"
   ]
  },
  {
   "cell_type": "code",
   "execution_count": 11,
   "metadata": {},
   "outputs": [
    {
     "name": "stdout",
     "output_type": "stream",
     "text": [
      "Rata-rata banyaknya produk terjual adalah 1083.4942196531792\n",
      "Median banyaknya produk terjual adalah 100.0\n",
      "Standar Deviasi dari banyaknya produk terjual adalah 2453.319182273563\n",
      "Skewness: 3.106623996291119\n",
      "Kurtosis: 8.50486318583266\n"
     ]
    }
   ],
   "source": [
    "\n",
    "# Menghitung nilai rata-rata dari kolom banyaknya_terjual dan memasukkannya ke dalam variabel mean\n",
    "mean = dataClean.banyaknya_terjual.mean()\n",
    "\n",
    "# Menghitung nilai median dari kolom banyaknya_terjual dan memasukkannya ke dalam variabel median\n",
    "median = dataClean.banyaknya_terjual.median()\n",
    "\n",
    "# Menghitung nilai standar deviasi dari kolom banyaknya_terjual dan memasukkannya ke dalam variabel modus\n",
    "std_dev = dataClean.banyaknya_terjual.std()\n",
    "\n",
    "print(f'Rata-rata banyaknya produk terjual adalah {mean}')\n",
    "print(f'Median banyaknya produk terjual adalah {median}')\n",
    "print(f'Standar Deviasi dari banyaknya produk terjual adalah {std_dev}')\n",
    "\n",
    "# Melakukan pencarian skewness\n",
    "print(f\"Skewness: {dataClean['banyaknya_terjual'].skew()}\")\n",
    "# Melakukan pencarian kurtosis\n",
    "print(f\"Kurtosis: {dataClean['banyaknya_terjual'].kurtosis()}\")\n",
    "     "
   ]
  },
  {
   "cell_type": "markdown",
   "metadata": {},
   "source": [
    "Diketahui berdasarkan hasil di atas bahwa kolom banyaknya_terjual memiliki nilai rata-rata = 1083.4942196531792 dengan nilai median = 100.0  dan standar deviasi = 2453.319182273563. Dapat diambil kesimpulan bahwa rata-rata jumlah penjualan seblak adalah 1083.4942196531792 dengan median 100.0 yang berarti terdapat variasi yang besar pada penjualan. Standar deviasinya adalah 2453.319182273563 yang berarti beberapa produk memiliki penjualan yang jauh di atas atau di bawah rata-rata.\n",
    "\n",
    "Skewnessnya bernilai 3.106623996291119 yang berarti distribusi condong ke arah kanan atau positif.\n",
    "\n",
    "Nilai kurtosisnya adalah 8.50486318583266 yang menggambarkan leptokurtic sehingga mengindikasikan bahwa terdapat outlier yang signifikan."
   ]
  },
  {
   "cell_type": "markdown",
   "metadata": {},
   "source": [
    "### Analisis Rating Produk"
   ]
  },
  {
   "cell_type": "code",
   "execution_count": 12,
   "metadata": {},
   "outputs": [
    {
     "name": "stdout",
     "output_type": "stream",
     "text": [
      "Rata-rata rating produk adalah 4.889306358381503\n",
      "Median rating produk adalah 4.9\n",
      "Standar Deviasi dari rating produk adalah 0.09184791345387558\n",
      "Skewness: -1.0054009847658465\n",
      "Kurtosis: 4.502734849069931\n"
     ]
    }
   ],
   "source": [
    "\n",
    "# Menghitung nilai rata-rata dari kolom rating_produk dan memasukkannya ke dalam variabel mean\n",
    "mean = dataClean.rating_produk.mean()\n",
    "\n",
    "# Menghitung nilai median dari kolom rating_produk dan memasukkannya ke dalam variabel median\n",
    "median = dataClean.rating_produk.median()\n",
    "\n",
    "# Menghitung nilai standar deviasi dari kolom rating_produk dan memasukkannya ke dalam variabel modus\n",
    "std_dev = dataClean.rating_produk.std()\n",
    "\n",
    "print(f'Rata-rata rating produk adalah {mean}')\n",
    "print(f'Median rating produk adalah {median}')\n",
    "print(f'Standar Deviasi dari rating produk adalah {std_dev}')\n",
    "\n",
    "# Melakukan pencarian skewness\n",
    "print(f\"Skewness: {dataClean['rating_produk'].skew()}\")\n",
    "# Melakukan pencarian kurtosis\n",
    "print(f\"Kurtosis: {dataClean['rating_produk'].kurtosis()}\")\n",
    "     "
   ]
  },
  {
   "cell_type": "markdown",
   "metadata": {},
   "source": [
    "Rata-rata rating pada produk seblak adalah 4.889306358381503 yang menunjukan bahwa produk memiliki mayoritas penilaian positif dari pelanggan. Mediannya adalah 4.9 yang berarti ratingnya sangat positif. Standar deviasinya 0.09184791345387558 sangat rendah, yang berarti rating produk tidak terlalu jauh dari nilai rata-rata. \n",
    "\n",
    "Skewness bernilai -1.0054009847658465 yang menandakan bahwa distribusinya condong ke arah kiri atau positif.\n",
    "\n",
    "Nilai kurtosisnya adalah 4.502734849069931 yang menggambarkan leptokurtic. Mungkin terdapat outlier tapi tidak terlalu signifikan."
   ]
  },
  {
   "cell_type": "markdown",
   "metadata": {},
   "source": [
    "### Menghitung minimum dan maksimum pendapatan dari menjual seblak"
   ]
  },
  {
   "cell_type": "code",
   "execution_count": 5,
   "metadata": {},
   "outputs": [
    {
     "data": {
      "text/html": [
       "<div>\n",
       "<style scoped>\n",
       "    .dataframe tbody tr th:only-of-type {\n",
       "        vertical-align: middle;\n",
       "    }\n",
       "\n",
       "    .dataframe tbody tr th {\n",
       "        vertical-align: top;\n",
       "    }\n",
       "\n",
       "    .dataframe thead th {\n",
       "        text-align: right;\n",
       "    }\n",
       "</style>\n",
       "<table border=\"1\" class=\"dataframe\">\n",
       "  <thead>\n",
       "    <tr style=\"text-align: right;\">\n",
       "      <th></th>\n",
       "      <th>nama_produk</th>\n",
       "      <th>harga_produk</th>\n",
       "      <th>penjual</th>\n",
       "      <th>kota_toko</th>\n",
       "      <th>banyaknya_terjual</th>\n",
       "      <th>rating_produk</th>\n",
       "      <th>jabodetabek</th>\n",
       "      <th>omset</th>\n",
       "    </tr>\n",
       "  </thead>\n",
       "  <tbody>\n",
       "    <tr>\n",
       "      <th>0</th>\n",
       "      <td>Gelifood Seblak Instan Kerupuk Mawar Bumbu Ken...</td>\n",
       "      <td>13000</td>\n",
       "      <td>Lidigeli</td>\n",
       "      <td>Kab. Garut</td>\n",
       "      <td>250</td>\n",
       "      <td>4.8</td>\n",
       "      <td>Luar Jabodetabek</td>\n",
       "      <td>3250000</td>\n",
       "    </tr>\n",
       "    <tr>\n",
       "      <th>1</th>\n",
       "      <td>Seblak Instan Ceu Nthien Khas Bandung Rasana N...</td>\n",
       "      <td>17000</td>\n",
       "      <td>Central Seblak Nusantara</td>\n",
       "      <td>Tangerang Selatan</td>\n",
       "      <td>2000</td>\n",
       "      <td>4.9</td>\n",
       "      <td>Jabodetabek</td>\n",
       "      <td>34000000</td>\n",
       "    </tr>\n",
       "    <tr>\n",
       "      <th>2</th>\n",
       "      <td>Seblak Rafael, Seblak Coet Instan Halal</td>\n",
       "      <td>25000</td>\n",
       "      <td>Brother Meat Shop</td>\n",
       "      <td>Depok</td>\n",
       "      <td>100</td>\n",
       "      <td>4.9</td>\n",
       "      <td>Jabodetabek</td>\n",
       "      <td>2500000</td>\n",
       "    </tr>\n",
       "    <tr>\n",
       "      <th>3</th>\n",
       "      <td>Kylafood Seblak Cup Instan, Halal</td>\n",
       "      <td>11500</td>\n",
       "      <td>Brother Meat Shop</td>\n",
       "      <td>Depok</td>\n",
       "      <td>60</td>\n",
       "      <td>5.0</td>\n",
       "      <td>Jabodetabek</td>\n",
       "      <td>690000</td>\n",
       "    </tr>\n",
       "    <tr>\n",
       "      <th>4</th>\n",
       "      <td>KERUPUK SEBLAK MENTAH ANEKA WARNA</td>\n",
       "      <td>11500</td>\n",
       "      <td>jajanangarut19</td>\n",
       "      <td>Jakarta Selatan</td>\n",
       "      <td>250</td>\n",
       "      <td>4.9</td>\n",
       "      <td>Jabodetabek</td>\n",
       "      <td>2875000</td>\n",
       "    </tr>\n",
       "    <tr>\n",
       "      <th>...</th>\n",
       "      <td>...</td>\n",
       "      <td>...</td>\n",
       "      <td>...</td>\n",
       "      <td>...</td>\n",
       "      <td>...</td>\n",
       "      <td>...</td>\n",
       "      <td>...</td>\n",
       "      <td>...</td>\n",
       "    </tr>\n",
       "    <tr>\n",
       "      <th>341</th>\n",
       "      <td>Seblak Instan Pedas Home Made</td>\n",
       "      <td>3500</td>\n",
       "      <td>the Dhecip</td>\n",
       "      <td>Tangerang Selatan</td>\n",
       "      <td>2000</td>\n",
       "      <td>4.8</td>\n",
       "      <td>Jabodetabek</td>\n",
       "      <td>7000000</td>\n",
       "    </tr>\n",
       "    <tr>\n",
       "      <th>342</th>\n",
       "      <td>Gelifood Seblak Instan Kerupuk Mawar Bumbu Ken...</td>\n",
       "      <td>13000</td>\n",
       "      <td>Lidigeli</td>\n",
       "      <td>Kab. Garut</td>\n",
       "      <td>250</td>\n",
       "      <td>4.8</td>\n",
       "      <td>Luar Jabodetabek</td>\n",
       "      <td>3250000</td>\n",
       "    </tr>\n",
       "    <tr>\n",
       "      <th>343</th>\n",
       "      <td>keripik beling/kaca 1/2 kg. bumbu seblak daun ...</td>\n",
       "      <td>25999</td>\n",
       "      <td>aghniya</td>\n",
       "      <td>Tangerang Selatan</td>\n",
       "      <td>250</td>\n",
       "      <td>4.9</td>\n",
       "      <td>Jabodetabek</td>\n",
       "      <td>6499750</td>\n",
       "    </tr>\n",
       "    <tr>\n",
       "      <th>344</th>\n",
       "      <td>Seblak pedas kerupuk pedas kiloan 1 kg</td>\n",
       "      <td>35000</td>\n",
       "      <td>RIKI STORE 97</td>\n",
       "      <td>Kab. Bogor</td>\n",
       "      <td>100</td>\n",
       "      <td>4.8</td>\n",
       "      <td>Jabodetabek</td>\n",
       "      <td>3500000</td>\n",
       "    </tr>\n",
       "    <tr>\n",
       "      <th>345</th>\n",
       "      <td>Seblak Instan Komplit Pedas Gurih Nikmat</td>\n",
       "      <td>5999</td>\n",
       "      <td>Baso Aci Ayang</td>\n",
       "      <td>Kab. Garut</td>\n",
       "      <td>2000</td>\n",
       "      <td>4.9</td>\n",
       "      <td>Luar Jabodetabek</td>\n",
       "      <td>11998000</td>\n",
       "    </tr>\n",
       "  </tbody>\n",
       "</table>\n",
       "<p>346 rows × 8 columns</p>\n",
       "</div>"
      ],
      "text/plain": [
       "                                           nama_produk  harga_produk  \\\n",
       "0    Gelifood Seblak Instan Kerupuk Mawar Bumbu Ken...         13000   \n",
       "1    Seblak Instan Ceu Nthien Khas Bandung Rasana N...         17000   \n",
       "2              Seblak Rafael, Seblak Coet Instan Halal         25000   \n",
       "3                    Kylafood Seblak Cup Instan, Halal         11500   \n",
       "4                    KERUPUK SEBLAK MENTAH ANEKA WARNA         11500   \n",
       "..                                                 ...           ...   \n",
       "341                      Seblak Instan Pedas Home Made          3500   \n",
       "342  Gelifood Seblak Instan Kerupuk Mawar Bumbu Ken...         13000   \n",
       "343  keripik beling/kaca 1/2 kg. bumbu seblak daun ...         25999   \n",
       "344             Seblak pedas kerupuk pedas kiloan 1 kg         35000   \n",
       "345           Seblak Instan Komplit Pedas Gurih Nikmat          5999   \n",
       "\n",
       "                      penjual          kota_toko  banyaknya_terjual  \\\n",
       "0                    Lidigeli         Kab. Garut                250   \n",
       "1    Central Seblak Nusantara  Tangerang Selatan               2000   \n",
       "2           Brother Meat Shop              Depok                100   \n",
       "3           Brother Meat Shop              Depok                 60   \n",
       "4              jajanangarut19    Jakarta Selatan                250   \n",
       "..                        ...                ...                ...   \n",
       "341                the Dhecip  Tangerang Selatan               2000   \n",
       "342                  Lidigeli         Kab. Garut                250   \n",
       "343                   aghniya  Tangerang Selatan                250   \n",
       "344             RIKI STORE 97         Kab. Bogor                100   \n",
       "345            Baso Aci Ayang         Kab. Garut               2000   \n",
       "\n",
       "     rating_produk       jabodetabek     omset  \n",
       "0              4.8  Luar Jabodetabek   3250000  \n",
       "1              4.9       Jabodetabek  34000000  \n",
       "2              4.9       Jabodetabek   2500000  \n",
       "3              5.0       Jabodetabek    690000  \n",
       "4              4.9       Jabodetabek   2875000  \n",
       "..             ...               ...       ...  \n",
       "341            4.8       Jabodetabek   7000000  \n",
       "342            4.8  Luar Jabodetabek   3250000  \n",
       "343            4.9       Jabodetabek   6499750  \n",
       "344            4.8       Jabodetabek   3500000  \n",
       "345            4.9  Luar Jabodetabek  11998000  \n",
       "\n",
       "[346 rows x 8 columns]"
      ]
     },
     "execution_count": 5,
     "metadata": {},
     "output_type": "execute_result"
    }
   ],
   "source": [
    "# Menambahkan kolom baru yaitu omset yang berisi perkalian antara kolom harga_produk dan banyaknya_terjual\n",
    "dataClean = dataClean.assign(omset = dataClean['harga_produk'] * dataClean['banyaknya_terjual'])\n",
    "\n",
    "# pengecekkan kembali dataframe1\n",
    "dataClean"
   ]
  },
  {
   "cell_type": "markdown",
   "metadata": {},
   "source": [
    "Membuat sebuah kolom baru yang berisi omset yang mana di dalamnya terdapat hasil dari perkalian antara kolom harga_produk dengan banyaknya_terjual. Penambahan kolom ini dilakukan agar mempermudah dalam menghitung pendapatan minimum dan maksimum."
   ]
  },
  {
   "cell_type": "code",
   "execution_count": 6,
   "metadata": {},
   "outputs": [
    {
     "name": "stdout",
     "output_type": "stream",
     "text": [
      "Lower Limit: 6112221.922601655\n",
      "Upper Limit: 10515349.210346323\n"
     ]
    }
   ],
   "source": [
    "# Mencari lower dan upper limit pada kolom omset dengan confidence level 95%\n",
    "std = dataClean['omset'].std()\n",
    "N = len(dataClean)\n",
    "low, up = stats.norm.interval(0.95,loc=dataClean['omset'].mean(),scale=std/np.sqrt(N))\n",
    "print('Lower Limit:',low)\n",
    "print('Upper Limit:',up)"
   ]
  },
  {
   "cell_type": "markdown",
   "metadata": {},
   "source": [
    "Dari data di atas kita bisa mendapat kesimpulan bahwa potensi maksimum pendapatan yang akan kita dapat dari menjual seblak adalah Rp.10.515.349. dan potensi minimum pendapatannya adalah Rp.6.112.221."
   ]
  },
  {
   "cell_type": "markdown",
   "metadata": {},
   "source": [
    "### Perbandingan harga seblak di Jabodetabek dan Luar Jabodetabek."
   ]
  },
  {
   "cell_type": "markdown",
   "metadata": {},
   "source": [
    "Diperlukan untuk mencari apakah terdapat perbedaan harga seblak di jabodetabek dan luar jabodetabek dikarenakan harga bahan baku yang berbeda. Untuk menganalisa perbedaan tersebut, digunakan hipotesis sebagai berikut:\n",
    "\n",
    "<b>H0 = Harga seblak di jabodetabek sama dengan harga di luar jabodetabek </b>\n",
    "\n",
    "<b>H1 = Harga seblak di jabodetabek tidak sama dengan harga di luar jabodetabek </b>\n",
    "\n",
    "Uji hipotesis digunakan untuk mengumpulkan bukti dari data yang dapat mendukung atau menolak hipotesis nol. Jika hasil uji menunjukkan ada perbedaan signifikan antara harga seblak di jabodetabek dan luar jabodetabek, kita dapat menolak hipotesis nol dan menerima hipotesis alternatif. Sebaliknya, jika tidak ada bukti yang cukup, kita tidak dapat menolak hipotesis nol."
   ]
  },
  {
   "cell_type": "code",
   "execution_count": 7,
   "metadata": {},
   "outputs": [
    {
     "name": "stdout",
     "output_type": "stream",
     "text": [
      "Rata-rata harga seblak di jabodetabek = Rp.17333.167857142857\n",
      "Rata-rata harga seblak di luar jabodetabek adalah = Rp.21148.272727272728\n"
     ]
    }
   ],
   "source": [
    "# Membuat sebuah variabel untuk harga produk di dalam jabodetabek dan produk di luar jabodetabek\n",
    "dalam_jabodetabek = dataClean[dataClean['jabodetabek'] == 'Jabodetabek']['harga_produk']\n",
    "luar_jabodetabek= dataClean[dataClean['jabodetabek'] == 'Luar Jabodetabek']['harga_produk']\n",
    "\n",
    "\n",
    "# Menghitung rata-rata harga seblak di jabodetabek dan luar jabodetabek\n",
    "print(f\"Rata-rata harga seblak di jabodetabek = Rp.{dalam_jabodetabek.mean()}\")\n",
    "print(f\"Rata-rata harga seblak di luar jabodetabek adalah = Rp.{luar_jabodetabek.mean()}\")"
   ]
  },
  {
   "cell_type": "markdown",
   "metadata": {},
   "source": [
    "Membuat sebuah variabel untuk kota yang didalam jabodetabek dan diluar jabodetabek dan melakukan perhitungan rata-rata harga produk. Meskpun terlihat perbedaan, hal ini belum bisa membuktikan secara pasti adanya perbedaan harga. Untuk itu two sample independent test digunakan untuk membandingkan rata-rata dari dua keloimpok data yang berbeda secara independen."
   ]
  },
  {
   "cell_type": "code",
   "execution_count": 8,
   "metadata": {},
   "outputs": [
    {
     "name": "stdout",
     "output_type": "stream",
     "text": [
      "T-Statistic: -1.9670344260467834\n",
      "P-value: 0.04998258288671841\n"
     ]
    }
   ],
   "source": [
    "# Melakukan two independent test\n",
    "t_stat, p_val = stats.ttest_ind(dalam_jabodetabek, luar_jabodetabek)\n",
    "print('T-Statistic:', t_stat)\n",
    "print('P-value:', p_val)"
   ]
  },
  {
   "cell_type": "markdown",
   "metadata": {},
   "source": [
    "Nilai T-Statistic adalah -1.9670344260467834 yang merupakan negatif bisa mengindikasikan bahwa harga di jabodetabek lebih rendah dibandingkan luar jabodetabek. Dengan nilai P-value 0.04998258288671841 yang lebih kecil dari tingkat signifikansi 0.05 berarti kita memiliki bukti untuk menolak hipotesis 0. Dapat disimpulkan bahwa harga di jabodetabek tidak sama dengan harga di luar jabodetabek."
   ]
  },
  {
   "cell_type": "markdown",
   "metadata": {},
   "source": [
    "### Melakukan korelasi untuk mengetahui apakah harga produk mempengaruhi penjualan produk"
   ]
  },
  {
   "cell_type": "markdown",
   "metadata": {},
   "source": [
    "Untuk mencari tahu apakah harga produk mempengaruhi banyaknya penjualan produk. Untuk menganalisa hal tersebut, digunakan hipotesis sebagai berikut:\n",
    "\n",
    "<b>H0 = Tidak terdapat korelasi antara harga produk dan banyaknya produk terjual </b>\n",
    "\n",
    "<b>H1 = Terdapat korelasi antara harga produk dan banyaknya produk terjual</b>"
   ]
  },
  {
   "cell_type": "code",
   "execution_count": 9,
   "metadata": {},
   "outputs": [
    {
     "name": "stdout",
     "output_type": "stream",
     "text": [
      "rho-correlation: -0.49, p-value: 4.581838831420978e-22\n"
     ]
    }
   ],
   "source": [
    "# Memperhitungkan korelasi\n",
    "corr_rho, pval_s = stats.spearmanr(dataClean['harga_produk'], dataClean['banyaknya_terjual'])\n",
    "\n",
    "print(f\"rho-correlation: {corr_rho:.2f}, p-value: {pval_s}\")"
   ]
  },
  {
   "cell_type": "markdown",
   "metadata": {},
   "source": [
    "Korelasi Spearman (rho): -0.49, p-value: 4.581838831420978e-22\n",
    "\n",
    "Spearman digunakan karena tidak terlalu sensitif terhadap outlier, dimana pada data yang kita analisis memiliki banyak outlier.\n",
    "Nilai rho-correlation -0.49 menunjukkan adanya korelasi negatif yang kuat antara harga produk dan banyaknya produk yang terjual yang berarti korelasi berbanding terbalik. Artinya, ketika harga produk naik, banyaknya produk yang terjual cenderung turun.\n",
    "Dengan nilai p-value 4.581838831420978e-22 lebih kecil dari tingkat signifikansi 0.05 berarti cukup bukti untuk menolak hipotesis 0 dan berarti terdapat korelasi antara harga produk dan banyaknya produk terjual."
   ]
  },
  {
   "cell_type": "markdown",
   "metadata": {},
   "source": [
    "## Kesimpulan"
   ]
  },
  {
   "cell_type": "markdown",
   "metadata": {},
   "source": [
    "Dari analisis diatas dapat diambil kesimpulan bahwa:  \n",
    "1. Setelah melakukan perhitungan rata-rata, median, standar deviasi, skewness, dan kurtosis dari kolom harga, banyak produk terjual, dan rating. Dapat terlihat bahwa seblak memiliki tingkat animo yang tinggi di masyarakat.\n",
    "2. Setelah menghitung potensi minimum dan maksimum pendapatan penjualan produk seblak menggunakan confidence interval, dapat terlihat bahwa kita bisa mendapatkan banyak pendapatan dari menjual seblak karena harga jual yang lumayan tinggi.\n",
    "3. Hasil dari hipotesis adalah harga di jabodetabek tidak sama dengan harga di luar jabodetabek.\n",
    "4. Dapat juga disimpulkan bahwa harga produk yang tinggi membuat banyaknya produk yang terjual cenderung turun.\n",
    "\n",
    "Dengan mempertimbangkan keempat poin diatas dapat diambil kesimpulan bahwa, seblak memiliki potensi yang besar karena animo masyarakat yang tinggi. Tetapi, kita harus bisa mengatur strategi harga karena harga berpengaruh untuk memaksimalkan keuntungan dan jumlah produk yang bisa dijual. Solusinya adalah menjual produk dengan harga murah untuk meningkatkan pendapatan. Selain itu, perbedaan harga antara jabodetabek dengan luar jabodetabek juga bisa dijadikan pertimbangan ketika kita ingin menjual produk seblak. Dengan kesimpulan ini, saya memutuskan untuk melakukan dropshipping produk seblak untuk menghasilkan pendapatan tambahan."
   ]
  }
 ],
 "metadata": {
  "kernelspec": {
   "display_name": "base",
   "language": "python",
   "name": "python3"
  },
  "language_info": {
   "codemirror_mode": {
    "name": "ipython",
    "version": 3
   },
   "file_extension": ".py",
   "mimetype": "text/x-python",
   "name": "python",
   "nbconvert_exporter": "python",
   "pygments_lexer": "ipython3",
   "version": "3.11.5"
  }
 },
 "nbformat": 4,
 "nbformat_minor": 2
}
